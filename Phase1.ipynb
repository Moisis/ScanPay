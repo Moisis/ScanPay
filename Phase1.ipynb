{
 "cells": [
  {
   "cell_type": "markdown",
   "source": [
    "Phase 1 Requirements  \n",
    "Preprocessing of the captured image. (10 marks) \n",
    "Credit card frame detection. (5 marks) \n",
    "Straightening and cropping the picture such that it only contains the undistorted PAN. (5 marks) "
   ],
   "metadata": {
    "collapsed": false
   },
   "id": "dad16e1a324cb8cb"
  },
  {
   "cell_type": "markdown",
   "source": [
    "Imports"
   ],
   "metadata": {
    "collapsed": false
   },
   "id": "960673149b177bdf"
  },
  {
   "cell_type": "code",
   "outputs": [],
   "source": [
    "from imutils import contours\n",
    "import numpy as np\n",
    "import argparse\n",
    "import imutils\n",
    "import cv2"
   ],
   "metadata": {
    "collapsed": false,
    "ExecuteTime": {
     "end_time": "2024-08-05T15:29:42.183300Z",
     "start_time": "2024-08-05T15:29:42.179653Z"
    }
   },
   "id": "357b8745902a25e1",
   "execution_count": 111
  },
  {
   "cell_type": "markdown",
   "source": [
    " define a dictionary that maps the first digit of a credit card\n",
    "number to the credit card type"
   ],
   "metadata": {
    "collapsed": false
   },
   "id": "837f7b50c1a45b2c"
  },
  {
   "cell_type": "code",
   "outputs": [],
   "source": [
    "FIRST_NUMBER = {\n",
    "\t\"3\": \"American Express\",\n",
    "\t\"4\": \"Visa\",\n",
    "\t\"5\": \"MasterCard\",\n",
    "\t\"6\": \"Discover Card\"\n",
    "}"
   ],
   "metadata": {
    "collapsed": false,
    "ExecuteTime": {
     "end_time": "2024-08-05T15:29:42.213738Z",
     "start_time": "2024-08-05T15:29:42.209529Z"
    }
   },
   "id": "45a7ea92313199e0",
   "execution_count": 112
  },
  {
   "cell_type": "markdown",
   "source": [
    "Getting the Refrence image \n",
    "|||\n",
    "||\n",
    "|"
   ],
   "metadata": {
    "collapsed": false
   },
   "id": "f28b3d03179f68a4"
  },
  {
   "cell_type": "code",
   "outputs": [],
   "source": [],
   "metadata": {
    "collapsed": false,
    "ExecuteTime": {
     "end_time": "2024-08-05T15:29:42.217695Z",
     "start_time": "2024-08-05T15:29:42.215745Z"
    }
   },
   "id": "82f5b1e2747d749e",
   "execution_count": 112
  },
  {
   "cell_type": "markdown",
   "source": [
    "Getting the test image\n",
    "(Getting the image + Grayscale it )"
   ],
   "metadata": {
    "collapsed": false
   },
   "id": "f5ae1994b7e4dc4c"
  },
  {
   "cell_type": "code",
   "outputs": [],
   "source": [
    "image = cv2.imread('./testcases/01 - Straightforward.jpg')\n",
    "#image = cv2.imread('./testcases/02 - You can do it.jpg')\n",
    "#image = cv2.imread('./testcases/03 - Should be okay.jpg')\n",
    "#image = cv2.imread('./testcases/04 - Still ok, I hope.jpg')\n",
    "#image = cv2.imread('./testcases/05 - Looks cool, hope it runs cool too.jpg') \n",
    "#image = cv2.imread('./testcases/06 - Hatetlewe7 hatlewe7.jpg')\n",
    "#image = cv2.imread('./testcases/07 - Hatet3eweg hat3eweg.jpg')\n",
    "#image = cv2.imread('./testcases/08 - Ew3a soba3ak ya3am.jpg')\n",
    "#image = cv2.imread('./testcases/09 - El spero spathis we23et 3aaaa.jpg')\n",
    "#image = cv2.imread('./testcases/10 - Mal7 w Felfel.jpg') \n",
    "# image = cv2.imread('./testcases/11 - Ya setty ew3i.jpg')\n",
    "# image = cv2.imread('./testcases/12 - weewooweewoo.jpg') \n",
    "# image = cv2.imread('./testcases/13 - Matozbot el camera ya Kimo.jpg')\n",
    "# image = cv2.imread('./testcases/14 - 2el noor 2ata3.jpg')\n",
    "#image = cv2.imread('./testcases/15 - Compresso Espresso.jpg')\n",
    "# image = cv2.imread('./testcases/16 - Sheel el kart yastaaaa.jpg')\n",
    "\n",
    "\n",
    "image = imutils.resize(image, width=300)\n",
    "gray = cv2.cvtColor(image, cv2.COLOR_RGB2GRAY)\n",
    "\n",
    "# Test images \n",
    "cv2.imshow(\"Original\", image)\n",
    "cv2.imshow(\"Gray\", gray)\n",
    "\n",
    "# Prevent this window from closing\n",
    "cv2.waitKey(0)\n",
    "cv2.destroyAllWindows()"
   ],
   "metadata": {
    "collapsed": false,
    "ExecuteTime": {
     "end_time": "2024-08-05T15:29:44.298369Z",
     "start_time": "2024-08-05T15:29:42.218702Z"
    }
   },
   "id": "ea34c0b7f116ac1c",
   "execution_count": 113
  },
  {
   "cell_type": "markdown",
   "source": [
    "Adding Kernals "
   ],
   "metadata": {
    "collapsed": false
   },
   "id": "3d5312c395e3bb96"
  },
  {
   "cell_type": "code",
   "outputs": [],
   "source": [
    "# initialize a rectangular (wider than it is tall) and square\n",
    "# structuring kernel\n",
    "rectKernel = cv2.getStructuringElement(cv2.MORPH_RECT, (9, 3))\n",
    "sqKernel = cv2.getStructuringElement(cv2.MORPH_RECT, (5, 5))"
   ],
   "metadata": {
    "collapsed": false,
    "ExecuteTime": {
     "end_time": "2024-08-05T15:29:44.303323Z",
     "start_time": "2024-08-05T15:29:44.299305Z"
    }
   },
   "id": "4bf95578fa68aa3d",
   "execution_count": 114
  },
  {
   "cell_type": "markdown",
   "source": [
    "Applying Tophat morph"
   ],
   "metadata": {
    "collapsed": false
   },
   "id": "90d8938207941f15"
  },
  {
   "cell_type": "code",
   "outputs": [],
   "source": [
    "# apply a tophat (whitehat) morphological operator to find light\n",
    "# regions against a dark background (i.e., the credit card numbers)\n",
    "tophat = cv2.morphologyEx(gray, cv2.MORPH_TOPHAT, rectKernel)\n",
    "cv2.imshow(\"Tophat\", tophat)\n",
    "\n",
    "# Prevent this window from closing\n",
    "cv2.waitKey(0)\n",
    "cv2.destroyAllWindows()"
   ],
   "metadata": {
    "collapsed": false,
    "ExecuteTime": {
     "end_time": "2024-08-05T15:29:45.714945Z",
     "start_time": "2024-08-05T15:29:44.303323Z"
    }
   },
   "id": "e0d863d969f56b66",
   "execution_count": 115
  },
  {
   "cell_type": "markdown",
   "source": [
    "Compute the Gradient along the x-direction(Vertical Edges )"
   ],
   "metadata": {
    "collapsed": false
   },
   "id": "eca14c35d1530bce"
  },
  {
   "cell_type": "code",
   "outputs": [],
   "source": [
    "# compute the Scharr gradient of the tophat image, then scale\n",
    "# the rest back into the range [0, 255]\n",
    "gradX = cv2.Sobel(tophat, ddepth=cv2.CV_32F, dx=1, dy=0,\n",
    "\tksize=-1)\n",
    "gradX = np.absolute(gradX)\n",
    "(minVal, maxVal) = (np.min(gradX), np.max(gradX))\n",
    "gradX = (255 * ((gradX - minVal) / (maxVal - minVal)))\n",
    "gradX = gradX.astype(\"uint8\")\n",
    "\n",
    "cv2.imshow(\"Sobel X\", gradX)\n",
    "cv2.waitKey(0)\n",
    "cv2.destroyAllWindows()"
   ],
   "metadata": {
    "collapsed": false,
    "ExecuteTime": {
     "end_time": "2024-08-05T15:29:47.032497Z",
     "start_time": "2024-08-05T15:29:45.715950Z"
    }
   },
   "id": "d909db0777e9f33",
   "execution_count": 116
  },
  {
   "cell_type": "markdown",
   "source": [
    "Credit Card digit finding algorithm"
   ],
   "metadata": {
    "collapsed": false
   },
   "id": "84e22603046bcf18"
  },
  {
   "cell_type": "code",
   "outputs": [],
   "source": [
    "# apply a closing operation using the rectangular kernel to help\n",
    "# cloes gaps in between credit card number digits, then apply\n",
    "# Otsu's thresholding method to binarize the image\n",
    "gradX = cv2.morphologyEx(gradX, cv2.MORPH_CLOSE, rectKernel)\n",
    "thresh = cv2.threshold(gradX, 0, 255,\n",
    "\tcv2.THRESH_BINARY | cv2.THRESH_OTSU)[1]\n",
    "# apply a second closing operation to the binary image, again\n",
    "# to help close gaps between credit card number regions\n",
    "thresh = cv2.morphologyEx(thresh, cv2.MORPH_CLOSE, sqKernel)\n",
    "\n",
    "cv2.imshow(\"Sobel X\", thresh)\n",
    "cv2.waitKey(0)\n",
    "cv2.destroyAllWindows()"
   ],
   "metadata": {
    "collapsed": false,
    "ExecuteTime": {
     "end_time": "2024-08-05T15:29:47.844108Z",
     "start_time": "2024-08-05T15:29:47.033503Z"
    }
   },
   "id": "abbef28758f20d35",
   "execution_count": 117
  },
  {
   "cell_type": "markdown",
   "source": [],
   "metadata": {
    "collapsed": false
   },
   "id": "d899431c2dbeb784"
  }
 ],
 "metadata": {
  "kernelspec": {
   "display_name": "Python 3",
   "language": "python",
   "name": "python3"
  },
  "language_info": {
   "codemirror_mode": {
    "name": "ipython",
    "version": 2
   },
   "file_extension": ".py",
   "mimetype": "text/x-python",
   "name": "python",
   "nbconvert_exporter": "python",
   "pygments_lexer": "ipython2",
   "version": "2.7.6"
  }
 },
 "nbformat": 4,
 "nbformat_minor": 5
}
